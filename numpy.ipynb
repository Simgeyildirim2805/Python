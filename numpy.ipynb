{
 "cells": [
  {
   "cell_type": "code",
   "execution_count": 1,
   "id": "15d29555",
   "metadata": {},
   "outputs": [],
   "source": [
    "import numpy as np#numpy kütüphanesini kullanabilmek için ilk önce import eder. np numpy'in kısaltmasından gelir."
   ]
  },
  {
   "cell_type": "code",
   "execution_count": 2,
   "id": "11d0b363",
   "metadata": {},
   "outputs": [],
   "source": [
    "liste= list(range(1,10))#1 ve 10 aralığında sayılar oluşturur. 1'i dahil eder, 10'u dahil etmez.\n"
   ]
  },
  {
   "cell_type": "code",
   "execution_count": 3,
   "id": "8c74057b",
   "metadata": {},
   "outputs": [
    {
     "data": {
      "text/plain": [
       "[1, 2, 3, 4, 5, 6, 7, 8, 9]"
      ]
     },
     "execution_count": 3,
     "metadata": {},
     "output_type": "execute_result"
    }
   ],
   "source": [
    "liste#listeyi ekrana yazdırır."
   ]
  },
  {
   "cell_type": "code",
   "execution_count": 4,
   "id": "97505acc",
   "metadata": {},
   "outputs": [],
   "source": [
    "a=np.array([1,2,3,4,5])#a isminde \"1,2,3,4,5\" elamanlarını içeren bir dizi oluşturur.\n"
   ]
  },
  {
   "cell_type": "code",
   "execution_count": 5,
   "id": "0d7809f0",
   "metadata": {},
   "outputs": [
    {
     "data": {
      "text/plain": [
       "array([1, 2, 3, 4, 5])"
      ]
     },
     "execution_count": 5,
     "metadata": {},
     "output_type": "execute_result"
    }
   ],
   "source": [
    "a#oluşturduğumuz a dizsini ekranda yazdırır."
   ]
  },
  {
   "cell_type": "code",
   "execution_count": 6,
   "id": "57e5bf13",
   "metadata": {},
   "outputs": [
    {
     "data": {
      "text/plain": [
       "array([1., 2., 3., 4., 5., 6., 7., 8., 9.])"
      ]
     },
     "execution_count": 6,
     "metadata": {},
     "output_type": "execute_result"
    }
   ],
   "source": [
    "b=np.array(liste,dtype=float)#b dizisinin elemanlarını float(ondalıklı sayı) olarak yazdırır.\n",
    "b#oluşturduğumuz b dizsini ekrana yazdırır."
   ]
  },
  {
   "cell_type": "code",
   "execution_count": 7,
   "id": "cd9fa0f8",
   "metadata": {},
   "outputs": [
    {
     "data": {
      "text/plain": [
       "array([10, 15, 20, 25, 30, 35, 40, 45])"
      ]
     },
     "execution_count": 7,
     "metadata": {},
     "output_type": "execute_result"
    }
   ],
   "source": [
    "c= np.arange(10,50,5)#arange metodu ile 10'dan 50'ye kadar 5'er 5'er artan bir dizi oluşturuyoruz. Bu diziye de c adını verir.\n",
    "c#oluşturduğumuz c dizisini ekrana yazdırır. "
   ]
  },
  {
   "cell_type": "code",
   "execution_count": 8,
   "id": "78555ed7",
   "metadata": {},
   "outputs": [
    {
     "data": {
      "text/plain": [
       "array([0.        , 0.11111111, 0.22222222, 0.33333333, 0.44444444,\n",
       "       0.55555556, 0.66666667, 0.77777778, 0.88888889, 1.        ])"
      ]
     },
     "execution_count": 8,
     "metadata": {},
     "output_type": "execute_result"
    }
   ],
   "source": [
    "d=np.linspace(0,1,10)#0 ve 1 arasında 1 dahil olmak üzere 10 tane sayı oluşturur.\n",
    "d#oluşturduğumuz d'yi ekrana yazdırır."
   ]
  },
  {
   "cell_type": "code",
   "execution_count": 9,
   "id": "fd8d7a2e",
   "metadata": {},
   "outputs": [
    {
     "data": {
      "text/plain": [
       "(3, 3)"
      ]
     },
     "execution_count": 9,
     "metadata": {},
     "output_type": "execute_result"
    }
   ],
   "source": [
    "len(a)#a dizisinin boyutunu verir.\n",
    "b.shape#b'nin boyutlarını verir.\n",
    "b=b.reshape(3,3)#b nin boyutlarını 3'e 3lük olacak şekilde yeniden belirler. \n",
    "b#oluşturulan b matrisini ekrana yazdırır.\n",
    "b.shape#b'nin boyutlarını verir."
   ]
  },
  {
   "cell_type": "code",
   "execution_count": 10,
   "id": "c5f3b10c",
   "metadata": {},
   "outputs": [
    {
     "data": {
      "text/plain": [
       "array([[10, 10, 10, 10, 10],\n",
       "       [10, 10, 10, 10, 10],\n",
       "       [10, 10, 10, 10, 10],\n",
       "       [10, 10, 10, 10, 10],\n",
       "       [10, 10, 10, 10, 10]])"
      ]
     },
     "execution_count": 10,
     "metadata": {},
     "output_type": "execute_result"
    }
   ],
   "source": [
    "np.zeros((5,5))#elemanlarının hepsinin 0 olduğu 5*5'lik dizi oluşturur.\n",
    "np.ones((5,5))#elemanlarının hepsinin 1 olduğu 5*5'lik bir dizi oluşturur.\n",
    "np.eye(3)#3*3'lük bir birim matris oluşturur.\n",
    "np.full((5,5),10)#5*5'lik bir matrisin elemanlarının hepsinin 10'dan oluşmasını sağlar."
   ]
  },
  {
   "cell_type": "code",
   "execution_count": 11,
   "id": "f33d2150",
   "metadata": {},
   "outputs": [],
   "source": [
    "a=np.random.random((2,2))#2'ye 2 boyutunda rastgele değerlerle dizi oluşturur.\n",
    "b=np.random.randint(1,5,(2,2))#2'ye 2 boyutunda 1 ve 5 arasında rastgele değerlden dizi oluşturur."
   ]
  },
  {
   "cell_type": "code",
   "execution_count": 12,
   "id": "4a995f4a",
   "metadata": {},
   "outputs": [
    {
     "data": {
      "text/plain": [
       "array([[0.83086689, 0.73606531],\n",
       "       [0.11516217, 0.93558219]])"
      ]
     },
     "execution_count": 12,
     "metadata": {},
     "output_type": "execute_result"
    }
   ],
   "source": [
    "a#a'yı ekrana yazdırır."
   ]
  },
  {
   "cell_type": "code",
   "execution_count": 13,
   "id": "ad45d8e7",
   "metadata": {},
   "outputs": [
    {
     "data": {
      "text/plain": [
       "array([[2, 4],\n",
       "       [3, 3]])"
      ]
     },
     "execution_count": 13,
     "metadata": {},
     "output_type": "execute_result"
    }
   ],
   "source": [
    "b#b'yi ekrana yazdırır."
   ]
  },
  {
   "cell_type": "code",
   "execution_count": 14,
   "id": "91072807",
   "metadata": {},
   "outputs": [
    {
     "data": {
      "text/plain": [
       "array([[2.83086689, 4.73606531],\n",
       "       [3.11516217, 3.93558219]])"
      ]
     },
     "execution_count": 14,
     "metadata": {},
     "output_type": "execute_result"
    }
   ],
   "source": [
    "np.add(a,b)#a ve b'yi toplar."
   ]
  },
  {
   "cell_type": "code",
   "execution_count": 15,
   "id": "76eac256",
   "metadata": {},
   "outputs": [
    {
     "name": "stdout",
     "output_type": "stream",
     "text": [
      "Help on ufunc:\n",
      "\n",
      "multiply = <ufunc 'multiply'>\n",
      "    multiply(x1, x2, /, out=None, *, where=True, casting='same_kind', order='K', dtype=None, subok=True[, signature, extobj])\n",
      "    \n",
      "    Multiply arguments element-wise.\n",
      "    \n",
      "    Parameters\n",
      "    ----------\n",
      "    x1, x2 : array_like\n",
      "        Input arrays to be multiplied.\n",
      "        If ``x1.shape != x2.shape``, they must be broadcastable to a common\n",
      "        shape (which becomes the shape of the output).\n",
      "    out : ndarray, None, or tuple of ndarray and None, optional\n",
      "        A location into which the result is stored. If provided, it must have\n",
      "        a shape that the inputs broadcast to. If not provided or None,\n",
      "        a freshly-allocated array is returned. A tuple (possible only as a\n",
      "        keyword argument) must have length equal to the number of outputs.\n",
      "    where : array_like, optional\n",
      "        This condition is broadcast over the input. At locations where the\n",
      "        condition is True, the `out` array will be set to the ufunc result.\n",
      "        Elsewhere, the `out` array will retain its original value.\n",
      "        Note that if an uninitialized `out` array is created via the default\n",
      "        ``out=None``, locations within it where the condition is False will\n",
      "        remain uninitialized.\n",
      "    **kwargs\n",
      "        For other keyword-only arguments, see the\n",
      "        :ref:`ufunc docs <ufuncs.kwargs>`.\n",
      "    \n",
      "    Returns\n",
      "    -------\n",
      "    y : ndarray\n",
      "        The product of `x1` and `x2`, element-wise.\n",
      "        This is a scalar if both `x1` and `x2` are scalars.\n",
      "    \n",
      "    Notes\n",
      "    -----\n",
      "    Equivalent to `x1` * `x2` in terms of array broadcasting.\n",
      "    \n",
      "    Examples\n",
      "    --------\n",
      "    >>> np.multiply(2.0, 4.0)\n",
      "    8.0\n",
      "    \n",
      "    >>> x1 = np.arange(9.0).reshape((3, 3))\n",
      "    >>> x2 = np.arange(3.0)\n",
      "    >>> np.multiply(x1, x2)\n",
      "    array([[  0.,   1.,   4.],\n",
      "           [  0.,   4.,  10.],\n",
      "           [  0.,   7.,  16.]])\n",
      "    \n",
      "    The ``*`` operator can be used as a shorthand for ``np.multiply`` on\n",
      "    ndarrays.\n",
      "    \n",
      "    >>> x1 = np.arange(9.0).reshape((3, 3))\n",
      "    >>> x2 = np.arange(3.0)\n",
      "    >>> x1 * x2\n",
      "    array([[  0.,   1.,   4.],\n",
      "           [  0.,   4.,  10.],\n",
      "           [  0.,   7.,  16.]])\n",
      "\n"
     ]
    }
   ],
   "source": [
    "dir(np)#numpy'in metotlarını listeler.\n",
    "help(np.multiply)#help komutuyla herhangi bir konu hakkında hızlıca bilgi alınabilir.Buradaki komutla da multiply  ilgili bilgi alınır."
   ]
  },
  {
   "cell_type": "code",
   "execution_count": 16,
   "id": "9dbde005",
   "metadata": {},
   "outputs": [
    {
     "data": {
      "text/plain": [
       "45"
      ]
     },
     "execution_count": 16,
     "metadata": {},
     "output_type": "execute_result"
    }
   ],
   "source": [
    "np.median(c)#c dizisinin medyanını(ortadaki değerini) verir.\n",
    "np.sum(c)#c dizisinin elemanlarının toplamını verir.\n",
    "np.min(c)#c dizsinin en küçük değerini verir.\n",
    "np.max(c)#c dizsinin en büyük değerini verir."
   ]
  },
  {
   "cell_type": "code",
   "execution_count": 17,
   "id": "17bed166",
   "metadata": {},
   "outputs": [
    {
     "data": {
      "text/plain": [
       "array([[2, 3],\n",
       "       [4, 3]])"
      ]
     },
     "execution_count": 17,
     "metadata": {},
     "output_type": "execute_result"
    }
   ],
   "source": [
    "np.transpose(b)#b matrsinin transpozunu alır.\n",
    "b.T#b matrisinin transpozunu alır."
   ]
  },
  {
   "cell_type": "code",
   "execution_count": 18,
   "id": "275f59a1",
   "metadata": {},
   "outputs": [
    {
     "data": {
      "text/plain": [
       "array([6, 6])"
      ]
     },
     "execution_count": 18,
     "metadata": {},
     "output_type": "execute_result"
    }
   ],
   "source": [
    "np.sum(b)#b'nin elemanlarının toplar.\n",
    "np.sum(b,axis=1)#b'nin satırlarını toplar.Sütunları toplamak için de axis=0 yapılır."
   ]
  },
  {
   "cell_type": "code",
   "execution_count": 19,
   "id": "eee5a7a9",
   "metadata": {},
   "outputs": [],
   "source": [
    "e=b.copy()#b dizisini e adlı diziye kopyalar. Dizide yapılan değişikliklerden kopyası etkilenmez.\n",
    "f=b.view()#b dizsini f'ye kopyalar.Ve yapılan değişikliklerden etkilenir."
   ]
  },
  {
   "cell_type": "code",
   "execution_count": 20,
   "id": "196e4166",
   "metadata": {},
   "outputs": [
    {
     "data": {
      "text/plain": [
       "array([[  2,   4],\n",
       "       [  3, 100]])"
      ]
     },
     "execution_count": 20,
     "metadata": {},
     "output_type": "execute_result"
    }
   ],
   "source": [
    "b[1,1]=100#b'nin satırdaki 1.indis ve sütundaki 1. indise denk gelen yerini 100 yapar.\n",
    "f#f'yi ekrana yazdır."
   ]
  },
  {
   "cell_type": "code",
   "execution_count": 21,
   "id": "5abad939",
   "metadata": {},
   "outputs": [],
   "source": [
    "np.save(\"b.npy\", b)#b'yi \"b.npy\" isminde bulunulan dizine kaydeder.\n",
    "w=np.load(\"b.npy\")#\"b.npy\" adlı diziyi w'ya yükler."
   ]
  },
  {
   "cell_type": "code",
   "execution_count": 22,
   "id": "9df7f11e",
   "metadata": {},
   "outputs": [
    {
     "data": {
      "text/plain": [
       "array([[ True,  True],\n",
       "       [ True, False]])"
      ]
     },
     "execution_count": 22,
     "metadata": {},
     "output_type": "execute_result"
    }
   ],
   "source": [
    "b<5#b dizisinin elemanlarının 5'ten küçük olup olmadığının kontrolünü yapar."
   ]
  },
  {
   "cell_type": "code",
   "execution_count": 23,
   "id": "dcc14541",
   "metadata": {},
   "outputs": [
    {
     "data": {
      "text/plain": [
       "array([6, 8])"
      ]
     },
     "execution_count": 23,
     "metadata": {},
     "output_type": "execute_result"
    }
   ],
   "source": [
    "x=np.array([1,2,3,4,5,6,7,8,9])#x dizisini \"1,2,3,4,5,6,7,8,9\"elemanlarında oluşan bir dizi olarak tanımlar.\n",
    "x[5::2]#x dizisinin 5.indisdeki değerini ve ondan 2 sonra gelen değeri döndürür."
   ]
  },
  {
   "cell_type": "code",
   "execution_count": 61,
   "id": "5b4d5940",
   "metadata": {},
   "outputs": [
    {
     "data": {
      "text/plain": [
       "array([[0.66993568, 0.83407059, 0.67323322, 0.65586424, 0.83578795,\n",
       "        0.36151754, 0.22353415, 0.81944374, 0.79140215, 0.51185175],\n",
       "       [0.91992485, 0.33414645, 0.31428318, 0.62508679, 0.66119383,\n",
       "        0.33320096, 0.79165692, 0.94003803, 0.76469199, 0.50003786],\n",
       "       [0.59208475, 0.61347744, 0.7340716 , 0.12552709, 0.40624371,\n",
       "        0.71493473, 0.08504423, 0.39086545, 0.00862804, 0.07627576],\n",
       "       [0.61082094, 0.43023901, 0.83625391, 0.71327718, 0.33492172,\n",
       "        0.65331944, 0.40603879, 0.8551385 , 0.46652011, 0.15670575],\n",
       "       [0.81428371, 0.28122265, 0.34069836, 0.56288394, 0.83117982,\n",
       "        0.1085101 , 0.46039913, 0.08735478, 0.96917356, 0.0972046 ],\n",
       "       [0.4736181 , 0.93185684, 0.37142001, 0.21345608, 0.69828139,\n",
       "        0.43706288, 0.63153582, 0.43354455, 0.37610518, 0.60662781],\n",
       "       [0.53831809, 0.02046554, 0.17116478, 0.70426144, 0.28283794,\n",
       "        0.64427731, 0.5936544 , 0.91494413, 0.61323752, 0.79795486],\n",
       "       [0.76281044, 0.701204  , 0.58306625, 0.42432698, 0.23554106,\n",
       "        0.88613474, 0.38197888, 0.14276849, 0.38356099, 0.76034555],\n",
       "       [0.33376622, 0.16223702, 0.8973023 , 0.17635091, 0.66940855,\n",
       "        0.76523545, 0.34436326, 0.56068084, 0.87017954, 0.03091847],\n",
       "       [0.09097175, 0.29367833, 0.64491144, 0.3193895 , 0.46272732,\n",
       "        0.98150047, 0.62384363, 0.34374243, 0.78884942, 0.35337743]])"
      ]
     },
     "execution_count": 61,
     "metadata": {},
     "output_type": "execute_result"
    }
   ],
   "source": [
    "y=np.random.random((10,10))#10'a 10'luk rastgele sayılardan oluşan bir dizi tanımlar.\n",
    "y"
   ]
  },
  {
   "cell_type": "code",
   "execution_count": 62,
   "id": "79981d42",
   "metadata": {},
   "outputs": [
    {
     "data": {
      "text/plain": [
       "array([[0.69828139, 0.63153582, 0.37610518],\n",
       "       [0.28283794, 0.5936544 , 0.61323752]])"
      ]
     },
     "execution_count": 62,
     "metadata": {},
     "output_type": "execute_result"
    }
   ],
   "source": [
    "y[5:7, 4::2]"
   ]
  },
  {
   "cell_type": "code",
   "execution_count": 57,
   "id": "7df7696e",
   "metadata": {},
   "outputs": [
    {
     "data": {
      "text/plain": [
       "array([[  0.83086689,   0.73606531,   2.        ,   4.        ],\n",
       "       [  0.11516217,   0.93558219,   3.        , 100.        ]])"
      ]
     },
     "execution_count": 57,
     "metadata": {},
     "output_type": "execute_result"
    }
   ],
   "source": [
    "np.concatenate((a,b), axis=1)#a ve b dizilerini satırlar boyunca birleştirir. Eğer axis=0 deseydik sütunlar boyunca birleştirme yapardı. Yani axis=0 alt aalta, axis=1 yan yana yazar."
   ]
  },
  {
   "cell_type": "code",
   "execution_count": 53,
   "id": "0c077866",
   "metadata": {},
   "outputs": [
    {
     "data": {
      "text/plain": [
       "(4,)"
      ]
     },
     "execution_count": 53,
     "metadata": {},
     "output_type": "execute_result"
    }
   ],
   "source": [
    "b.ravel().shape#b dizisinin elemanları ravel() ile tek dizinde yazılır.shape ile de bu dizinin boyutu öğrenilir."
   ]
  },
  {
   "cell_type": "code",
   "execution_count": 54,
   "id": "553fa5d2",
   "metadata": {},
   "outputs": [
    {
     "data": {
      "text/plain": [
       "array([[  0.83086689,   0.73606531,   2.        ,   4.        ],\n",
       "       [  0.11516217,   0.93558219,   3.        , 100.        ]])"
      ]
     },
     "execution_count": 54,
     "metadata": {},
     "output_type": "execute_result"
    }
   ],
   "source": [
    "np.hstack((a,b))# a ve b'yi satırlar boyunca birleştirir."
   ]
  },
  {
   "cell_type": "code",
   "execution_count": 34,
   "id": "2d824da5",
   "metadata": {
    "scrolled": true
   },
   "outputs": [
    {
     "data": {
      "text/plain": [
       "array([[ 1.        ,  0.18137096,  0.0603966 ,  0.40917549,  0.43864848,\n",
       "         0.08159239,  0.36653471, -0.63982285, -0.31999224,  0.33574332],\n",
       "       [ 0.18137096,  1.        , -0.18661736,  0.01376812,  0.2058543 ,\n",
       "         0.78669789, -0.5024578 ,  0.20840157, -0.46446327,  0.23243083],\n",
       "       [ 0.0603966 , -0.18661736,  1.        , -0.10330737, -0.65562966,\n",
       "         0.01313488, -0.13922812,  0.15350256, -0.21358887, -0.25570295],\n",
       "       [ 0.40917549,  0.01376812, -0.10330737,  1.        ,  0.34159226,\n",
       "        -0.14421833,  0.27467842, -0.24074922, -0.4026454 , -0.08980141],\n",
       "       [ 0.43864848,  0.2058543 , -0.65562966,  0.34159226,  1.        ,\n",
       "         0.16252382,  0.32405869, -0.43064763,  0.19554922,  0.19247576],\n",
       "       [ 0.08159239,  0.78669789,  0.01313488, -0.14421833,  0.16252382,\n",
       "         1.        , -0.69529349,  0.51104938, -0.12519254, -0.29897042],\n",
       "       [ 0.36653471, -0.5024578 , -0.13922812,  0.27467842,  0.32405869,\n",
       "        -0.69529349,  1.        , -0.83744221,  0.26164435,  0.49851415],\n",
       "       [-0.63982285,  0.20840157,  0.15350256, -0.24074922, -0.43064763,\n",
       "         0.51104938, -0.83744221,  1.        , -0.06933656, -0.63270527],\n",
       "       [-0.31999224, -0.46446327, -0.21358887, -0.4026454 ,  0.19554922,\n",
       "        -0.12519254,  0.26164435, -0.06933656,  1.        , -0.28344332],\n",
       "       [ 0.33574332,  0.23243083, -0.25570295, -0.08980141,  0.19247576,\n",
       "        -0.29897042,  0.49851415, -0.63270527, -0.28344332,  1.        ]])"
      ]
     },
     "execution_count": 34,
     "metadata": {},
     "output_type": "execute_result"
    }
   ],
   "source": [
    "np.corrcoef(y)#y dizisinin köşegenlerini 1 yapar."
   ]
  }
 ],
 "metadata": {
  "kernelspec": {
   "display_name": "Python 3 (ipykernel)",
   "language": "python",
   "name": "python3"
  },
  "language_info": {
   "codemirror_mode": {
    "name": "ipython",
    "version": 3
   },
   "file_extension": ".py",
   "mimetype": "text/x-python",
   "name": "python",
   "nbconvert_exporter": "python",
   "pygments_lexer": "ipython3",
   "version": "3.9.12"
  }
 },
 "nbformat": 4,
 "nbformat_minor": 5
}
