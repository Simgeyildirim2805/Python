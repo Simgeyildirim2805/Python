{
 "cells": [
  {
   "cell_type": "markdown",
   "id": "16e7ff69",
   "metadata": {},
   "source": [
    "## SİMGE YILDIRIM \" Uygulamalı Veri Bilimi Ve Analitiği  Dersi \""
   ]
  },
  {
   "cell_type": "markdown",
   "id": "4f116cba",
   "metadata": {},
   "source": [
    "### 1. Bir listeden, numpy dizisinden ve dict'den bir dizi nasıl oluşturulur?"
   ]
  },
  {
   "cell_type": "code",
   "execution_count": 141,
   "id": "278a5b1d",
   "metadata": {},
   "outputs": [
    {
     "data": {
      "text/plain": [
       "array.array"
      ]
     },
     "execution_count": 141,
     "metadata": {},
     "output_type": "execute_result"
    }
   ],
   "source": [
    "#listeden dizi oluşturma\n",
    "liste_dizisi= [1,2,3,4,5]#sıralı ve elemanları değiştirilebilir dizilerdir.\n",
    "liste_dizisi#ekrana yazdırır.\n",
    "import array as arr#array import edilir.\n",
    "a=arr.array('i',(liste_dizisi))#integer tipinde tanımlanan liste diziye dönüştürülür.\n",
    "type(a)#a nın tipi döndürülür."
   ]
  },
  {
   "cell_type": "code",
   "execution_count": 288,
   "id": "6bfd56b2",
   "metadata": {},
   "outputs": [
    {
     "data": {
      "text/plain": [
       "array([1, 2, 3, 4, 5])"
      ]
     },
     "execution_count": 288,
     "metadata": {},
     "output_type": "execute_result"
    }
   ],
   "source": [
    "#numpy dizisi oluşturma\n",
    "import numpy as np# numpy modülünü kullanabilmek için import edilir.\n",
    "np_dizisi=np.array([1,2,3,4,5])#numpy dizisi oluşturma.\n",
    "np_dizisi#ekrana yazdırır."
   ]
  },
  {
   "cell_type": "code",
   "execution_count": 58,
   "id": "2b371f14",
   "metadata": {},
   "outputs": [
    {
     "data": {
      "text/plain": [
       "array([1, 2, 3, 4])"
      ]
     },
     "execution_count": 58,
     "metadata": {},
     "output_type": "execute_result"
    }
   ],
   "source": [
    "#sözlükten dizi oluşturma\n",
    "import numpy as np#numpy import edilir.\n",
    "import array#array import edilir.\n",
    "s = { 1, 2, 3, 4 }#sözlük oluşturulur\n",
    "a = np.array(list(s)) #sözlük diziye dönüştürlür.\n",
    "a#ekrana yazdırılır."
   ]
  },
  {
   "cell_type": "code",
   "execution_count": 19,
   "id": "b092730c",
   "metadata": {},
   "outputs": [
    {
     "data": {
      "text/html": [
       "<div>\n",
       "<style scoped>\n",
       "    .dataframe tbody tr th:only-of-type {\n",
       "        vertical-align: middle;\n",
       "    }\n",
       "\n",
       "    .dataframe tbody tr th {\n",
       "        vertical-align: top;\n",
       "    }\n",
       "\n",
       "    .dataframe thead th {\n",
       "        text-align: right;\n",
       "    }\n",
       "</style>\n",
       "<table border=\"1\" class=\"dataframe\">\n",
       "  <thead>\n",
       "    <tr style=\"text-align: right;\">\n",
       "      <th></th>\n",
       "      <th>A</th>\n",
       "      <th>B</th>\n",
       "    </tr>\n",
       "  </thead>\n",
       "  <tbody>\n",
       "    <tr>\n",
       "      <th>1</th>\n",
       "      <td>A1</td>\n",
       "      <td>B1</td>\n",
       "    </tr>\n",
       "    <tr>\n",
       "      <th>2</th>\n",
       "      <td>A2</td>\n",
       "      <td>B2</td>\n",
       "    </tr>\n",
       "    <tr>\n",
       "      <th>3</th>\n",
       "      <td>A3</td>\n",
       "      <td>B3</td>\n",
       "    </tr>\n",
       "    <tr>\n",
       "      <th>4</th>\n",
       "      <td>A4</td>\n",
       "      <td>B4</td>\n",
       "    </tr>\n",
       "    <tr>\n",
       "      <th>5</th>\n",
       "      <td>A5</td>\n",
       "      <td>B5</td>\n",
       "    </tr>\n",
       "    <tr>\n",
       "      <th>6</th>\n",
       "      <td>A6</td>\n",
       "      <td>B6</td>\n",
       "    </tr>\n",
       "    <tr>\n",
       "      <th>7</th>\n",
       "      <td>A7</td>\n",
       "      <td>B7</td>\n",
       "    </tr>\n",
       "    <tr>\n",
       "      <th>8</th>\n",
       "      <td>A8</td>\n",
       "      <td>B8</td>\n",
       "    </tr>\n",
       "  </tbody>\n",
       "</table>\n",
       "</div>"
      ],
      "text/plain": [
       "    A   B\n",
       "1  A1  B1\n",
       "2  A2  B2\n",
       "3  A3  B3\n",
       "4  A4  B4\n",
       "5  A5  B5\n",
       "6  A6  B6\n",
       "7  A7  B7\n",
       "8  A8  B8"
      ]
     },
     "execution_count": 19,
     "metadata": {},
     "output_type": "execute_result"
    }
   ],
   "source": [
    "import pandas as pd#pandas kütükhanesi import edilir.\n",
    "set1={\"A\": [\"A1\",\"A2\",\"A3\",\"A4\"],\"B\":[\"B1\",\"B2\",\"B3\",\"B4\"]}#birinci veri seti oluşturulur.\n",
    "set2={\"A\": [\"A5\",\"A6\",\"A7\",\"A8\"],\"B\":[\"B5\",\"B6\",\"B7\",\"B8\"]}#ikinci veri seti oluşturulur.\n",
    "df1 = pd.DataFrame(set1,index = [1,2,3,4])#verilerin indexleri belirtilir.\n",
    "df2 = pd.DataFrame(set2,index = [5,6,7,8] )#verilerin indexleri belirtilir.\n",
    "yeni = pd.concat([df1,df2]) #başlıklar veya indexler üzerinden direkt birleştirme işlemi yapar.\n",
    "yeni#ekrana yazdırılır"
   ]
  },
  {
   "cell_type": "markdown",
   "id": "67c94df5",
   "metadata": {},
   "source": [
    "### 2. Bir veri çerçevesi oluşturmak için birçok seri nasıl birleştirilir?\n"
   ]
  },
  {
   "cell_type": "code",
   "execution_count": 50,
   "id": "9f89477b",
   "metadata": {},
   "outputs": [
    {
     "data": {
      "text/html": [
       "<div>\n",
       "<style scoped>\n",
       "    .dataframe tbody tr th:only-of-type {\n",
       "        vertical-align: middle;\n",
       "    }\n",
       "\n",
       "    .dataframe tbody tr th {\n",
       "        vertical-align: top;\n",
       "    }\n",
       "\n",
       "    .dataframe thead th {\n",
       "        text-align: right;\n",
       "    }\n",
       "</style>\n",
       "<table border=\"1\" class=\"dataframe\">\n",
       "  <thead>\n",
       "    <tr style=\"text-align: right;\">\n",
       "      <th></th>\n",
       "      <th>students</th>\n",
       "      <th>dersler</th>\n",
       "      <th>puanlar</th>\n",
       "    </tr>\n",
       "  </thead>\n",
       "  <tbody>\n",
       "    <tr>\n",
       "      <th>0</th>\n",
       "      <td>Simge</td>\n",
       "      <td>C++</td>\n",
       "      <td>100</td>\n",
       "    </tr>\n",
       "    <tr>\n",
       "      <th>1</th>\n",
       "      <td>Hüsna</td>\n",
       "      <td>C#</td>\n",
       "      <td>30</td>\n",
       "    </tr>\n",
       "    <tr>\n",
       "      <th>2</th>\n",
       "      <td>Ali</td>\n",
       "      <td>RUBY</td>\n",
       "      <td>50</td>\n",
       "    </tr>\n",
       "    <tr>\n",
       "      <th>3</th>\n",
       "      <td>Seda</td>\n",
       "      <td>SWIFT</td>\n",
       "      <td>70</td>\n",
       "    </tr>\n",
       "    <tr>\n",
       "      <th>4</th>\n",
       "      <td>Mert</td>\n",
       "      <td>GO</td>\n",
       "      <td>80</td>\n",
       "    </tr>\n",
       "    <tr>\n",
       "      <th>5</th>\n",
       "      <td>Cem</td>\n",
       "      <td>PYTHON</td>\n",
       "      <td>60</td>\n",
       "    </tr>\n",
       "  </tbody>\n",
       "</table>\n",
       "</div>"
      ],
      "text/plain": [
       "  students dersler  puanlar\n",
       "0    Simge     C++      100\n",
       "1    Hüsna      C#       30\n",
       "2      Ali    RUBY       50\n",
       "3     Seda   SWIFT       70\n",
       "4     Mert      GO       80\n",
       "5      Cem  PYTHON       60"
      ]
     },
     "execution_count": 50,
     "metadata": {},
     "output_type": "execute_result"
    }
   ],
   "source": [
    "import pandas as pd#pandas import edilir.\n",
    "a=['Simge', 'Hüsna','Ali', 'Seda','Mert', 'Cem']#a listesi oluşturulur.\n",
    "students = pd.Series(a)#seriye dönüştürülür.\n",
    "b=['C++', 'C#', 'RUBY', 'SWIFT','GO', 'PYTHON']#b listesi oluşturulur.\n",
    "dersler = pd.Series(b)#seriye dönüştürülür.\n",
    "c=[100, 30, 50, 70, 80, 60]#c listesi oluşturulur.\n",
    "puanlar = pd.Series(c)#seriye dönüştürlür.\n",
    "data = {\"students\": students, \"dersler\": subject,\"puanlar\": marks}#sözlük oluşturulur.\n",
    "df = pd.concat(data,axis = 1)#serileri yan yana birleştirir.axis=0  alt alta birleştirir\n",
    "df"
   ]
  },
  {
   "cell_type": "markdown",
   "id": "e9ba6281",
   "metadata": {},
   "source": [
    " ### 3. B serisinde bulunmayan A serisinin öğeleri nasıl elde edilir?"
   ]
  },
  {
   "cell_type": "code",
   "execution_count": 73,
   "id": "fa9e58f3",
   "metadata": {},
   "outputs": [
    {
     "name": "stdout",
     "output_type": "stream",
     "text": [
      "B serisinde bulunmayan A serisinin öğeleri:\n"
     ]
    },
    {
     "data": {
      "text/plain": [
       "0    28\n",
       "4    11\n",
       "5    47\n",
       "6    99\n",
       "dtype: int64"
      ]
     },
     "execution_count": 73,
     "metadata": {},
     "output_type": "execute_result"
    }
   ],
   "source": [
    "import pandas as pd#pandas import edilir.\n",
    "A = pd.Series([28, 45, 8, 22, 11, 47, 99])#A serisi oluşturulur.\n",
    "B = pd.Series([14, 28, 47, 4, 11, 99, 12])#B serisi oluşturulur.\n",
    "print(\"B serisinde bulunmayan A serisinin öğeleri:\")\n",
    "x = A[~A.isin(B)]#B serisinde bulunmayan A serisinin öğeleri x e atanır.\n",
    "x#ekrana yazdırılır."
   ]
  },
  {
   "cell_type": "markdown",
   "id": "ebf015fb",
   "metadata": {},
   "source": [
    "### 4. Hem A serisinde hem de B serisinde ortak olan öğeler nasıl elde edilir?"
   ]
  },
  {
   "cell_type": "code",
   "execution_count": 76,
   "id": "bfb00692",
   "metadata": {},
   "outputs": [
    {
     "name": "stdout",
     "output_type": "stream",
     "text": [
      "hem A serisinde hem B serisinde ortak olan öğeler:\n"
     ]
    },
    {
     "data": {
      "text/plain": [
       "0    28\n",
       "4    11\n",
       "5    47\n",
       "6    99\n",
       "dtype: int64"
      ]
     },
     "execution_count": 76,
     "metadata": {},
     "output_type": "execute_result"
    }
   ],
   "source": [
    "import pandas as pd#pandas import edilir.\n",
    "A = pd.Series([28, 45, 8, 22, 11, 47, 99])#A serisi oluşturulur.\n",
    "B = pd.Series([14, 28, 47, 4, 11, 99, 12])#B serisi oluşturulur.\n",
    "print(\"hem A serisinde hem B serisinde ortak olan öğeler:\")\n",
    "x = A[A.isin(B)]#B serisinde ve A serisindeki ortak öğeleri x e atanır.\n",
    "x#ekrana yazdırılır."
   ]
  },
  {
   "cell_type": "markdown",
   "id": "97d2e1fa",
   "metadata": {},
   "source": [
    "### 5. Yararlı bilgiler nasıl elde edilir?"
   ]
  },
  {
   "cell_type": "code",
   "execution_count": 5,
   "id": "554ef64a",
   "metadata": {},
   "outputs": [
    {
     "data": {
      "text/html": [
       "<div>\n",
       "<style scoped>\n",
       "    .dataframe tbody tr th:only-of-type {\n",
       "        vertical-align: middle;\n",
       "    }\n",
       "\n",
       "    .dataframe tbody tr th {\n",
       "        vertical-align: top;\n",
       "    }\n",
       "\n",
       "    .dataframe thead th {\n",
       "        text-align: right;\n",
       "    }\n",
       "</style>\n",
       "<table border=\"1\" class=\"dataframe\">\n",
       "  <thead>\n",
       "    <tr style=\"text-align: right;\">\n",
       "      <th></th>\n",
       "      <th>1.puan</th>\n",
       "      <th>2.puan</th>\n",
       "      <th>3.puan</th>\n",
       "    </tr>\n",
       "  </thead>\n",
       "  <tbody>\n",
       "    <tr>\n",
       "      <th>count</th>\n",
       "      <td>3.0</td>\n",
       "      <td>3.000000</td>\n",
       "      <td>3.000000</td>\n",
       "    </tr>\n",
       "    <tr>\n",
       "      <th>mean</th>\n",
       "      <td>95.0</td>\n",
       "      <td>43.666667</td>\n",
       "      <td>72.666667</td>\n",
       "    </tr>\n",
       "    <tr>\n",
       "      <th>std</th>\n",
       "      <td>5.0</td>\n",
       "      <td>13.051181</td>\n",
       "      <td>29.687259</td>\n",
       "    </tr>\n",
       "    <tr>\n",
       "      <th>min</th>\n",
       "      <td>90.0</td>\n",
       "      <td>30.000000</td>\n",
       "      <td>40.000000</td>\n",
       "    </tr>\n",
       "    <tr>\n",
       "      <th>25%</th>\n",
       "      <td>92.5</td>\n",
       "      <td>37.500000</td>\n",
       "      <td>60.000000</td>\n",
       "    </tr>\n",
       "    <tr>\n",
       "      <th>50%</th>\n",
       "      <td>95.0</td>\n",
       "      <td>45.000000</td>\n",
       "      <td>80.000000</td>\n",
       "    </tr>\n",
       "    <tr>\n",
       "      <th>75%</th>\n",
       "      <td>97.5</td>\n",
       "      <td>50.500000</td>\n",
       "      <td>89.000000</td>\n",
       "    </tr>\n",
       "    <tr>\n",
       "      <th>max</th>\n",
       "      <td>100.0</td>\n",
       "      <td>56.000000</td>\n",
       "      <td>98.000000</td>\n",
       "    </tr>\n",
       "  </tbody>\n",
       "</table>\n",
       "</div>"
      ],
      "text/plain": [
       "       1.puan     2.puan     3.puan\n",
       "count     3.0   3.000000   3.000000\n",
       "mean     95.0  43.666667  72.666667\n",
       "std       5.0  13.051181  29.687259\n",
       "min      90.0  30.000000  40.000000\n",
       "25%      92.5  37.500000  60.000000\n",
       "50%      95.0  45.000000  80.000000\n",
       "75%      97.5  50.500000  89.000000\n",
       "max     100.0  56.000000  98.000000"
      ]
     },
     "execution_count": 5,
     "metadata": {},
     "output_type": "execute_result"
    }
   ],
   "source": [
    "import numpy as np#numpy import edilir.\n",
    "import pandas as pd#pandas import edilir.\n",
    "#dataframe oluşturma\n",
    "dict = {'1.puan':[100, 90, np.nan, 95],'2.puan': [30, 45, 56, np.nan],'3.puan':[np.nan, 40, 80, 98]}# sözlük oluşturulur.1\n",
    "df = pd.DataFrame(dict)# dataframe oluşturulur.\n",
    "df.describe()#ekrana yararlı bilgileri yazar.(mean,std, vb)\n"
   ]
  },
  {
   "cell_type": "markdown",
   "id": "d69f8cad",
   "metadata": {},
   "source": [
    "### 6. Bir serinin benzersiz öğelerinin sıklık sayıları nasıl alınır?"
   ]
  },
  {
   "cell_type": "code",
   "execution_count": 127,
   "id": "52907447",
   "metadata": {},
   "outputs": [
    {
     "data": {
      "text/plain": [
       "5    3\n",
       "3    2\n",
       "2    1\n",
       "4    1\n",
       "6    1\n",
       "7    1\n",
       "8    1\n",
       "9    1\n",
       "dtype: int64"
      ]
     },
     "execution_count": 127,
     "metadata": {},
     "output_type": "execute_result"
    }
   ],
   "source": [
    "import pandas as pd#pandas import edilir.\n",
    "s = pd.Series(data = [2, 3, 4, 5, 5, 6,7, 8, 9, 5, 3])# seri oluşturulur.\n",
    "s.value_counts()# benzersiz sayıyı bulma"
   ]
  },
  {
   "cell_type": "markdown",
   "id": "4f3b349a",
   "metadata": {},
   "source": [
    "### 7. Numpy dizisini verilen şekle sahip bir veri çerçevesine nasıl dönüştürebilirim? (L1)"
   ]
  },
  {
   "cell_type": "code",
   "execution_count": 139,
   "id": "649546fc",
   "metadata": {},
   "outputs": [
    {
     "data": {
      "text/plain": [
       "array([[1, 2],\n",
       "       [4, 5]])"
      ]
     },
     "execution_count": 139,
     "metadata": {},
     "output_type": "execute_result"
    }
   ],
   "source": [
    "import numpy as np#numpy import edilir.\n",
    "import pandas as pd#pandas import edilir.\n",
    "arr = np.array([[1, 2], [4, 5]])#numpy dizisi oluşturur.\n",
    "arr#ekrana yazdırır."
   ]
  },
  {
   "cell_type": "code",
   "execution_count": 140,
   "id": "b28cb96c",
   "metadata": {},
   "outputs": [
    {
     "data": {
      "text/html": [
       "<div>\n",
       "<style scoped>\n",
       "    .dataframe tbody tr th:only-of-type {\n",
       "        vertical-align: middle;\n",
       "    }\n",
       "\n",
       "    .dataframe tbody tr th {\n",
       "        vertical-align: top;\n",
       "    }\n",
       "\n",
       "    .dataframe thead th {\n",
       "        text-align: right;\n",
       "    }\n",
       "</style>\n",
       "<table border=\"1\" class=\"dataframe\">\n",
       "  <thead>\n",
       "    <tr style=\"text-align: right;\">\n",
       "      <th></th>\n",
       "      <th>c</th>\n",
       "      <th>d</th>\n",
       "    </tr>\n",
       "  </thead>\n",
       "  <tbody>\n",
       "    <tr>\n",
       "      <th>a</th>\n",
       "      <td>1</td>\n",
       "      <td>2</td>\n",
       "    </tr>\n",
       "    <tr>\n",
       "      <th>b</th>\n",
       "      <td>4</td>\n",
       "      <td>5</td>\n",
       "    </tr>\n",
       "  </tbody>\n",
       "</table>\n",
       "</div>"
      ],
      "text/plain": [
       "   c  d\n",
       "a  1  2\n",
       "b  4  5"
      ]
     },
     "execution_count": 140,
     "metadata": {},
     "output_type": "execute_result"
    }
   ],
   "source": [
    "df=pd.DataFrame(data= arr,index=[\"a\",\"b\"],columns=[\"c\",\"d\"])#diziyi istenen dataframe e çevirir.\n",
    "df#ekrana yazdırır."
   ]
  },
  {
   "cell_type": "markdown",
   "id": "c99bfeae",
   "metadata": {},
   "source": [
    "### 8. Bir diziden 3'ün katı olan sayıların konumları nasıl bulunur?"
   ]
  },
  {
   "cell_type": "code",
   "execution_count": 133,
   "id": "1a5c7c76",
   "metadata": {},
   "outputs": [
    {
     "name": "stdout",
     "output_type": "stream",
     "text": [
      "0\n",
      "1\n",
      "5\n",
      "10\n"
     ]
    }
   ],
   "source": [
    "dizi = [18,15,22,19,85,9,32,65,7,55,3]#dizi oluşturulur\n",
    "for sayi in dizi:#for döngüsü  dizideki her elemanı sayiya kopyalar\n",
    "    if sayi%3 == 0:#sayi nın 3'e bölümünden kalanı sıfır olanları bulur\n",
    "        print(dizi.index(sayi))#dizideki sayi nın 3'e bölümünden kalanı sıfır olanları yazdırır."
   ]
  },
  {
   "cell_type": "markdown",
   "id": "2c4ff2ca",
   "metadata": {},
   "source": [
    "### 9. Bir diziden belirli konumlardaki öğeler nasıl çıkarılır?"
   ]
  },
  {
   "cell_type": "code",
   "execution_count": 142,
   "id": "4427af88",
   "metadata": {},
   "outputs": [
    {
     "data": {
      "text/plain": [
       "[1, 2, 8, 79, 6, 3, 12]"
      ]
     },
     "execution_count": 142,
     "metadata": {},
     "output_type": "execute_result"
    }
   ],
   "source": [
    "C=[1,2,4,8,79,6,3,12]#C dizisi oluşturulur.\n",
    "C.pop(2)# dizinin 4. indisteki elemanını çıkarır.\n",
    "C#dizi ekrana yazdırılır."
   ]
  },
  {
   "cell_type": "markdown",
   "id": "d20a34e2",
   "metadata": {},
   "source": [
    "### 10. İki dizi dikey ve yatay olarak nasıl istiflenir?"
   ]
  },
  {
   "cell_type": "code",
   "execution_count": 134,
   "id": "27413a29",
   "metadata": {},
   "outputs": [
    {
     "data": {
      "text/plain": [
       "array([1, 2, 3, 4, 5, 6])"
      ]
     },
     "execution_count": 134,
     "metadata": {},
     "output_type": "execute_result"
    }
   ],
   "source": [
    "import numpy as np#numpy import edilir.\n",
    "d1 = np.array([ 1, 2, 3] )#1.dizi oluşturulur.\n",
    "d2 = np.array([ 4, 5, 6] )#2.dizi oluşturulur.\n",
    "yatay = np.hstack((d1, d2))#iki dizi yatay olarak istiflenir.h horizontally den gelir.\n",
    "yatay#ekrana yazdırılır."
   ]
  },
  {
   "cell_type": "code",
   "execution_count": 138,
   "id": "f2928823",
   "metadata": {},
   "outputs": [
    {
     "data": {
      "text/plain": [
       "array([[1, 2, 3],\n",
       "       [4, 5, 6]])"
      ]
     },
     "execution_count": 138,
     "metadata": {},
     "output_type": "execute_result"
    }
   ],
   "source": [
    "import numpy as np#numpy import edilir.\n",
    "d1 = np.array([ 1, 2, 3] )#1.dizi oluşturulur.\n",
    "d2 = np.array([ 4, 5, 6] )#2.dizi oluşturulur.\n",
    "dikey=np.vstack((d1,d2))#iki dizi dikey olarak istiflenir.v vertically den gelir.\n",
    "dikey#ekrana yazdırılır."
   ]
  },
  {
   "cell_type": "markdown",
   "id": "c20c0fe3",
   "metadata": {},
   "source": [
    "### 11. Başka bir B serisindeki A serisi öğelerinin konumları nasıl alınır?"
   ]
  },
  {
   "cell_type": "code",
   "execution_count": 85,
   "id": "346671af",
   "metadata": {},
   "outputs": [
    {
     "data": {
      "text/plain": [
       "0     1\n",
       "1     2\n",
       "2     3\n",
       "3     4\n",
       "4     5\n",
       "5     6\n",
       "6     7\n",
       "7     8\n",
       "8     9\n",
       "9    10\n",
       "dtype: int64"
      ]
     },
     "execution_count": 85,
     "metadata": {},
     "output_type": "execute_result"
    }
   ],
   "source": [
    "import pandas as pd#pandas import edilir.\n",
    "A = pd.Series([1, 2, 3, 4, 5, 6, 7, 8, 9, 10])#A serisi oluşturulur.\n",
    "A#ekrana yazdırılır."
   ]
  },
  {
   "cell_type": "code",
   "execution_count": 86,
   "id": "18a682bc",
   "metadata": {},
   "outputs": [
    {
     "data": {
      "text/plain": [
       "0     1\n",
       "1     3\n",
       "2     5\n",
       "3     7\n",
       "4    10\n",
       "dtype: int64"
      ]
     },
     "execution_count": 86,
     "metadata": {},
     "output_type": "execute_result"
    }
   ],
   "source": [
    "B = pd.Series([1, 3, 5, 7, 10])#B serisi oluşturulur.\n",
    "B#ekrana yazdırılır."
   ]
  },
  {
   "cell_type": "code",
   "execution_count": 90,
   "id": "72b95797",
   "metadata": {},
   "outputs": [
    {
     "data": {
      "text/plain": [
       "[0, 2, 4, 6, 9]"
      ]
     },
     "execution_count": 90,
     "metadata": {},
     "output_type": "execute_result"
    }
   ],
   "source": [
    "konum = [pd.Index(A).get_loc(i) for i in B]#B serisindeki A serisinin öğelerinin konumlarını atar konuma\n",
    "konum#ekrana yazdırır"
   ]
  },
  {
   "cell_type": "markdown",
   "id": "68c77942",
   "metadata": {},
   "source": [
    "### 12. Bir serinin ardışık sayıları arasındaki farkların farkı nasıl hesaplanır?"
   ]
  },
  {
   "cell_type": "code",
   "execution_count": 129,
   "id": "9134ecab",
   "metadata": {},
   "outputs": [
    {
     "name": "stdout",
     "output_type": "stream",
     "text": [
      "[nan, 2.0, 2.0, 3.0, 2.0, 1.0, 4.0]\n"
     ]
    }
   ],
   "source": [
    "import pandas as pd#pandas import edilir.\n",
    "s1 = pd.Series([1, 3, 5, 8, 10, 11, 15])#seri oluşturulu.\n",
    "print(s1.diff().tolist())#serinin ardışık sayıları arasındaki farkları ekrana yazdırır."
   ]
  },
  {
   "cell_type": "code",
   "execution_count": 131,
   "id": "ee3442ef",
   "metadata": {},
   "outputs": [
    {
     "name": "stdout",
     "output_type": "stream",
     "text": [
      "[nan, nan, 0.0, 1.0, -1.0, -1.0, 3.0]\n"
     ]
    }
   ],
   "source": [
    "print(s1.diff().diff().tolist())#serinin ardışık sayıları arasındaki farkların farkını ekrana yazdırır."
   ]
  },
  {
   "cell_type": "markdown",
   "id": "6552b090",
   "metadata": {},
   "source": [
    "### 13. Bir dizi tarih dizisini bir zaman dizisine nasıl dönüştürebilirim?"
   ]
  },
  {
   "cell_type": "code",
   "execution_count": 124,
   "id": "c15a3e17",
   "metadata": {},
   "outputs": [
    {
     "name": "stdout",
     "output_type": "stream",
     "text": [
      "0   1997-05-28 00:00:00\n",
      "1   2013-01-16 00:00:00\n",
      "2   2016-02-29 17:56:00\n",
      "dtype: datetime64[ns]\n"
     ]
    }
   ],
   "source": [
    "import pandas as pd#pandas import edilir.\n",
    "# bir dizi tarih dizisi oluşturulur\n",
    "dt_series = pd.Series(['1997/05/28', '2013/01/16','2016/02/29 17:56'])# başlangıçta diziyi göster\n",
    "dt_series\n",
    "# sonra diziyi göster\n",
    "# zaman serisine dönüştürüldü\n",
    "print(pd.to_datetime(dt_series))\n"
   ]
  },
  {
   "cell_type": "markdown",
   "id": "45a15016",
   "metadata": {},
   "source": [
    "### 14. Bir diziden en az 2 sesli harf içeren kelimeler nasıl filtrelenir?"
   ]
  },
  {
   "cell_type": "code",
   "execution_count": 98,
   "id": "87951749",
   "metadata": {},
   "outputs": [
    {
     "data": {
      "text/plain": [
       "0    Simge\n",
       "1      Ali\n",
       "4      Eda\n",
       "dtype: object"
      ]
     },
     "execution_count": 98,
     "metadata": {},
     "output_type": "execute_result"
    }
   ],
   "source": [
    "import pandas as pd#pandas imort edilir.\n",
    "from collections import Counter#counter import edilir sayaç tutabilmek için\n",
    "dizi= pd.Series(['Simge', 'Ali', 'Cem', 'Mert', 'Eda', 'Berk'])#seri oluşturulur.\n",
    "sonuc = dizi.map(lambda c: sum([Counter(c.lower()).get(i, 0)# diziyi eşleme yapılır ve map ile dizilerde dolaşılır.\n",
    "for i in list('aeiou')]) >= 2)#sesli harf sayısının >=2 olup olmadığını kontrol etme\n",
    "dizi[sonuc]\n"
   ]
  },
  {
   "cell_type": "markdown",
   "id": "5d556f54",
   "metadata": {},
   "source": [
    "### 15. En az kullanılan karakterle bir dizgede eksik boşluklar nasıl değiştirilir?"
   ]
  },
  {
   "cell_type": "code",
   "execution_count": 113,
   "id": "02674aea",
   "metadata": {},
   "outputs": [
    {
     "data": {
      "text/plain": [
       "'simgenyıldırımniyingünler'"
      ]
     },
     "execution_count": 113,
     "metadata": {},
     "output_type": "execute_result"
    }
   ],
   "source": [
    "import pandas as pd#pandas import edilir.\n",
    "n1 = 'simge yıldırım iyi günler'#içerisinde boşluk olan bir string alma\n",
    "ser = pd.Series(list(n1))#karakter dizisine dönüştürme\n",
    "frekans= ser.value_counts()#frekansı sayma\n",
    "y = frekans.dropna().index[-1]#ilgili frekans ve karalterleri yazma\n",
    "result = \"\".join(ser.replace(' ',y))#boşluklar kaldırılarak yeni karakterle değiştirilir\n",
    "result#ekrana yazdırılır."
   ]
  },
  {
   "cell_type": "markdown",
   "id": "5b98705c",
   "metadata": {},
   "source": [
    "### 16. csv'yi bir veri çerçevesine aktarırken sütun değerleri nasıl değiştirilir?"
   ]
  },
  {
   "cell_type": "code",
   "execution_count": 31,
   "id": "91219293",
   "metadata": {},
   "outputs": [
    {
     "data": {
      "text/html": [
       "<div>\n",
       "<style scoped>\n",
       "    .dataframe tbody tr th:only-of-type {\n",
       "        vertical-align: middle;\n",
       "    }\n",
       "\n",
       "    .dataframe tbody tr th {\n",
       "        vertical-align: top;\n",
       "    }\n",
       "\n",
       "    .dataframe thead th {\n",
       "        text-align: right;\n",
       "    }\n",
       "</style>\n",
       "<table border=\"1\" class=\"dataframe\">\n",
       "  <thead>\n",
       "    <tr style=\"text-align: right;\">\n",
       "      <th></th>\n",
       "      <th>Pregnancies</th>\n",
       "      <th>Glucose</th>\n",
       "      <th>BloodPressure</th>\n",
       "      <th>SkinThickness</th>\n",
       "      <th>Insulin</th>\n",
       "      <th>BMI</th>\n",
       "      <th>DiabetesPedigreeFunction</th>\n",
       "      <th>Age</th>\n",
       "      <th>Outcome</th>\n",
       "    </tr>\n",
       "  </thead>\n",
       "  <tbody>\n",
       "    <tr>\n",
       "      <th>0</th>\n",
       "      <td>6</td>\n",
       "      <td>148</td>\n",
       "      <td>72</td>\n",
       "      <td>35</td>\n",
       "      <td>0</td>\n",
       "      <td>33.6</td>\n",
       "      <td>0.627</td>\n",
       "      <td>50</td>\n",
       "      <td>1</td>\n",
       "    </tr>\n",
       "    <tr>\n",
       "      <th>1</th>\n",
       "      <td>1</td>\n",
       "      <td>85</td>\n",
       "      <td>66</td>\n",
       "      <td>29</td>\n",
       "      <td>0</td>\n",
       "      <td>26.6</td>\n",
       "      <td>0.351</td>\n",
       "      <td>31</td>\n",
       "      <td>0</td>\n",
       "    </tr>\n",
       "    <tr>\n",
       "      <th>2</th>\n",
       "      <td>8</td>\n",
       "      <td>183</td>\n",
       "      <td>64</td>\n",
       "      <td>0</td>\n",
       "      <td>0</td>\n",
       "      <td>23.3</td>\n",
       "      <td>0.672</td>\n",
       "      <td>32</td>\n",
       "      <td>1</td>\n",
       "    </tr>\n",
       "    <tr>\n",
       "      <th>3</th>\n",
       "      <td>1</td>\n",
       "      <td>89</td>\n",
       "      <td>66</td>\n",
       "      <td>23</td>\n",
       "      <td>94</td>\n",
       "      <td>Simge</td>\n",
       "      <td>0.167</td>\n",
       "      <td>21</td>\n",
       "      <td>0</td>\n",
       "    </tr>\n",
       "    <tr>\n",
       "      <th>4</th>\n",
       "      <td>0</td>\n",
       "      <td>137</td>\n",
       "      <td>40</td>\n",
       "      <td>35</td>\n",
       "      <td>168</td>\n",
       "      <td>43.1</td>\n",
       "      <td>2.288</td>\n",
       "      <td>33</td>\n",
       "      <td>1</td>\n",
       "    </tr>\n",
       "    <tr>\n",
       "      <th>...</th>\n",
       "      <td>...</td>\n",
       "      <td>...</td>\n",
       "      <td>...</td>\n",
       "      <td>...</td>\n",
       "      <td>...</td>\n",
       "      <td>...</td>\n",
       "      <td>...</td>\n",
       "      <td>...</td>\n",
       "      <td>...</td>\n",
       "    </tr>\n",
       "    <tr>\n",
       "      <th>763</th>\n",
       "      <td>10</td>\n",
       "      <td>101</td>\n",
       "      <td>76</td>\n",
       "      <td>48</td>\n",
       "      <td>180</td>\n",
       "      <td>32.9</td>\n",
       "      <td>0.171</td>\n",
       "      <td>63</td>\n",
       "      <td>0</td>\n",
       "    </tr>\n",
       "    <tr>\n",
       "      <th>764</th>\n",
       "      <td>2</td>\n",
       "      <td>122</td>\n",
       "      <td>70</td>\n",
       "      <td>27</td>\n",
       "      <td>0</td>\n",
       "      <td>36.8</td>\n",
       "      <td>0.340</td>\n",
       "      <td>27</td>\n",
       "      <td>0</td>\n",
       "    </tr>\n",
       "    <tr>\n",
       "      <th>765</th>\n",
       "      <td>5</td>\n",
       "      <td>121</td>\n",
       "      <td>72</td>\n",
       "      <td>23</td>\n",
       "      <td>112</td>\n",
       "      <td>26.2</td>\n",
       "      <td>0.245</td>\n",
       "      <td>30</td>\n",
       "      <td>0</td>\n",
       "    </tr>\n",
       "    <tr>\n",
       "      <th>766</th>\n",
       "      <td>1</td>\n",
       "      <td>126</td>\n",
       "      <td>60</td>\n",
       "      <td>0</td>\n",
       "      <td>0</td>\n",
       "      <td>30.1</td>\n",
       "      <td>0.349</td>\n",
       "      <td>47</td>\n",
       "      <td>1</td>\n",
       "    </tr>\n",
       "    <tr>\n",
       "      <th>767</th>\n",
       "      <td>1</td>\n",
       "      <td>93</td>\n",
       "      <td>70</td>\n",
       "      <td>31</td>\n",
       "      <td>0</td>\n",
       "      <td>30.4</td>\n",
       "      <td>0.315</td>\n",
       "      <td>23</td>\n",
       "      <td>0</td>\n",
       "    </tr>\n",
       "  </tbody>\n",
       "</table>\n",
       "<p>768 rows × 9 columns</p>\n",
       "</div>"
      ],
      "text/plain": [
       "     Pregnancies  Glucose  BloodPressure  SkinThickness  Insulin    BMI  \\\n",
       "0              6      148             72             35        0   33.6   \n",
       "1              1       85             66             29        0   26.6   \n",
       "2              8      183             64              0        0   23.3   \n",
       "3              1       89             66             23       94  Simge   \n",
       "4              0      137             40             35      168   43.1   \n",
       "..           ...      ...            ...            ...      ...    ...   \n",
       "763           10      101             76             48      180   32.9   \n",
       "764            2      122             70             27        0   36.8   \n",
       "765            5      121             72             23      112   26.2   \n",
       "766            1      126             60              0        0   30.1   \n",
       "767            1       93             70             31        0   30.4   \n",
       "\n",
       "     DiabetesPedigreeFunction  Age  Outcome  \n",
       "0                       0.627   50        1  \n",
       "1                       0.351   31        0  \n",
       "2                       0.672   32        1  \n",
       "3                       0.167   21        0  \n",
       "4                       2.288   33        1  \n",
       "..                        ...  ...      ...  \n",
       "763                     0.171   63        0  \n",
       "764                     0.340   27        0  \n",
       "765                     0.245   30        0  \n",
       "766                     0.349   47        1  \n",
       "767                     0.315   23        0  \n",
       "\n",
       "[768 rows x 9 columns]"
      ]
     },
     "execution_count": 31,
     "metadata": {},
     "output_type": "execute_result"
    }
   ],
   "source": [
    "import pandas as pd#pandas import edilir.\n",
    "df = pd.read_csv(\"diabetes.csv\")#csv dosyası okunur.\n",
    "#veri/değer sütunlarının güncellenmesi\n",
    "df.loc[3, 'BMI'] = 'Simge'# BMI sütunun 3.ndisindeki değei Simge yapar.\n",
    "df.to_csv(\"yeni2.csv\", index=False)#dosyanın içine yazar.\n",
    "df#ekrana yazdırır."
   ]
  },
  {
   "cell_type": "markdown",
   "id": "227af89b",
   "metadata": {},
   "source": [
    "### 17. Bir csv dosyasından yalnızca belirtilen sütunları nasıl içe aktarabilirim?"
   ]
  },
  {
   "cell_type": "code",
   "execution_count": 20,
   "id": "5c451141",
   "metadata": {},
   "outputs": [
    {
     "data": {
      "text/html": [
       "<div>\n",
       "<style scoped>\n",
       "    .dataframe tbody tr th:only-of-type {\n",
       "        vertical-align: middle;\n",
       "    }\n",
       "\n",
       "    .dataframe tbody tr th {\n",
       "        vertical-align: top;\n",
       "    }\n",
       "\n",
       "    .dataframe thead th {\n",
       "        text-align: right;\n",
       "    }\n",
       "</style>\n",
       "<table border=\"1\" class=\"dataframe\">\n",
       "  <thead>\n",
       "    <tr style=\"text-align: right;\">\n",
       "      <th></th>\n",
       "      <th>x1</th>\n",
       "      <th>x4</th>\n",
       "    </tr>\n",
       "  </thead>\n",
       "  <tbody>\n",
       "    <tr>\n",
       "      <th>0</th>\n",
       "      <td>14</td>\n",
       "      <td>9</td>\n",
       "    </tr>\n",
       "    <tr>\n",
       "      <th>1</th>\n",
       "      <td>15</td>\n",
       "      <td>2</td>\n",
       "    </tr>\n",
       "    <tr>\n",
       "      <th>2</th>\n",
       "      <td>16</td>\n",
       "      <td>1</td>\n",
       "    </tr>\n",
       "    <tr>\n",
       "      <th>3</th>\n",
       "      <td>17</td>\n",
       "      <td>1</td>\n",
       "    </tr>\n",
       "    <tr>\n",
       "      <th>4</th>\n",
       "      <td>18</td>\n",
       "      <td>4</td>\n",
       "    </tr>\n",
       "    <tr>\n",
       "      <th>5</th>\n",
       "      <td>19</td>\n",
       "      <td>1</td>\n",
       "    </tr>\n",
       "    <tr>\n",
       "      <th>6</th>\n",
       "      <td>20</td>\n",
       "      <td>4</td>\n",
       "    </tr>\n",
       "    <tr>\n",
       "      <th>7</th>\n",
       "      <td>21</td>\n",
       "      <td>8</td>\n",
       "    </tr>\n",
       "  </tbody>\n",
       "</table>\n",
       "</div>"
      ],
      "text/plain": [
       "   x1  x4\n",
       "0  14   9\n",
       "1  15   2\n",
       "2  16   1\n",
       "3  17   1\n",
       "4  18   4\n",
       "5  19   1\n",
       "6  20   4\n",
       "7  21   8"
      ]
     },
     "execution_count": 20,
     "metadata": {},
     "output_type": "execute_result"
    }
   ],
   "source": [
    "import pandas as pd#pandas import edilir.\n",
    "#DataFrame oluşturulur.\n",
    "data = pd.DataFrame({'x1':range(14, 22),'x2':[7, 3, 7, 5, 3, 9, 1, 8],'x3':['a', 'b', 'c', 'd', 'e', 'f', 'g', 'h'],'x4':[9, 2, 1, 1, 4, 1, 4, 8]})\n",
    "data.to_csv('data.csv')#csv ye aktarılır.\n",
    "data1 = pd.read_csv('data.csv',usecols = ['x1', 'x4'])# CSV den dataframe okunur ve sütunlar belirtilir.\n",
    "data1#içe aktarılanlar ekrana yazdırılır."
   ]
  },
  {
   "cell_type": "markdown",
   "id": "0c05f46d",
   "metadata": {},
   "source": [
    "### 18. Bir veri çerçevesinin eksik değerleri olup olmadığı nasıl kontrol edilir?"
   ]
  },
  {
   "cell_type": "code",
   "execution_count": 292,
   "id": "1bd35c64",
   "metadata": {},
   "outputs": [
    {
     "data": {
      "text/html": [
       "<div>\n",
       "<style scoped>\n",
       "    .dataframe tbody tr th:only-of-type {\n",
       "        vertical-align: middle;\n",
       "    }\n",
       "\n",
       "    .dataframe tbody tr th {\n",
       "        vertical-align: top;\n",
       "    }\n",
       "\n",
       "    .dataframe thead th {\n",
       "        text-align: right;\n",
       "    }\n",
       "</style>\n",
       "<table border=\"1\" class=\"dataframe\">\n",
       "  <thead>\n",
       "    <tr style=\"text-align: right;\">\n",
       "      <th></th>\n",
       "      <th>1.puan</th>\n",
       "      <th>2.puan</th>\n",
       "      <th>3.puan</th>\n",
       "    </tr>\n",
       "  </thead>\n",
       "  <tbody>\n",
       "    <tr>\n",
       "      <th>0</th>\n",
       "      <td>False</td>\n",
       "      <td>False</td>\n",
       "      <td>True</td>\n",
       "    </tr>\n",
       "    <tr>\n",
       "      <th>1</th>\n",
       "      <td>False</td>\n",
       "      <td>False</td>\n",
       "      <td>False</td>\n",
       "    </tr>\n",
       "    <tr>\n",
       "      <th>2</th>\n",
       "      <td>True</td>\n",
       "      <td>False</td>\n",
       "      <td>False</td>\n",
       "    </tr>\n",
       "    <tr>\n",
       "      <th>3</th>\n",
       "      <td>False</td>\n",
       "      <td>True</td>\n",
       "      <td>False</td>\n",
       "    </tr>\n",
       "  </tbody>\n",
       "</table>\n",
       "</div>"
      ],
      "text/plain": [
       "   1.puan  2.puan  3.puan\n",
       "0   False   False    True\n",
       "1   False   False   False\n",
       "2    True   False   False\n",
       "3   False    True   False"
      ]
     },
     "execution_count": 292,
     "metadata": {},
     "output_type": "execute_result"
    }
   ],
   "source": [
    "import pandas as pd# pandas import edilir.\n",
    "import numpy as np # numpy ,mport edilir.\n",
    "dict = {'1.puan':[100, 90, np.nan, 95],'2.puan': [30, 45, 56, np.nan],'3.puan':[np.nan, 40, 80, 98]}# sözlük oluşturulur.1\n",
    "df = pd.DataFrame(dict)# dataframe oluşturulur.\n",
    "df.isnull()# isnull() fonksiyonu ile nan değerler true olarak döner."
   ]
  },
  {
   "cell_type": "markdown",
   "id": "006bceea",
   "metadata": {},
   "source": [
    "### 19. Birden çok sayısal sütunun eksik değerleri ortalama ile nasıl değiştirilir?"
   ]
  },
  {
   "cell_type": "code",
   "execution_count": 306,
   "id": "90b20113",
   "metadata": {},
   "outputs": [
    {
     "data": {
      "text/html": [
       "<div>\n",
       "<style scoped>\n",
       "    .dataframe tbody tr th:only-of-type {\n",
       "        vertical-align: middle;\n",
       "    }\n",
       "\n",
       "    .dataframe tbody tr th {\n",
       "        vertical-align: top;\n",
       "    }\n",
       "\n",
       "    .dataframe thead th {\n",
       "        text-align: right;\n",
       "    }\n",
       "</style>\n",
       "<table border=\"1\" class=\"dataframe\">\n",
       "  <thead>\n",
       "    <tr style=\"text-align: right;\">\n",
       "      <th></th>\n",
       "      <th>1.puan</th>\n",
       "      <th>2.puan</th>\n",
       "      <th>3.puan</th>\n",
       "    </tr>\n",
       "  </thead>\n",
       "  <tbody>\n",
       "    <tr>\n",
       "      <th>0</th>\n",
       "      <td>100.0</td>\n",
       "      <td>30.0</td>\n",
       "      <td>NaN</td>\n",
       "    </tr>\n",
       "    <tr>\n",
       "      <th>1</th>\n",
       "      <td>90.0</td>\n",
       "      <td>45.0</td>\n",
       "      <td>40.0</td>\n",
       "    </tr>\n",
       "    <tr>\n",
       "      <th>2</th>\n",
       "      <td>NaN</td>\n",
       "      <td>56.0</td>\n",
       "      <td>80.0</td>\n",
       "    </tr>\n",
       "    <tr>\n",
       "      <th>3</th>\n",
       "      <td>95.0</td>\n",
       "      <td>NaN</td>\n",
       "      <td>98.0</td>\n",
       "    </tr>\n",
       "  </tbody>\n",
       "</table>\n",
       "</div>"
      ],
      "text/plain": [
       "   1.puan  2.puan  3.puan\n",
       "0   100.0    30.0     NaN\n",
       "1    90.0    45.0    40.0\n",
       "2     NaN    56.0    80.0\n",
       "3    95.0     NaN    98.0"
      ]
     },
     "execution_count": 306,
     "metadata": {},
     "output_type": "execute_result"
    }
   ],
   "source": [
    "import numpy as np#numpy import edilir.\n",
    "import pandas as pd#pandas import edilir.\n",
    "#dataframe oluşturma\n",
    "dict = {'1.puan':[100, 90, np.nan, 95],'2.puan': [30, 45, 56, np.nan],'3.puan':[np.nan, 40, 80, 98]}# sözlük oluşturulur.1\n",
    "df = pd.DataFrame(dict)# dataframe oluşturulur.\n",
    "df#ekrana yazdırılır."
   ]
  },
  {
   "cell_type": "code",
   "execution_count": 307,
   "id": "6e84c43f",
   "metadata": {},
   "outputs": [
    {
     "data": {
      "text/html": [
       "<div>\n",
       "<style scoped>\n",
       "    .dataframe tbody tr th:only-of-type {\n",
       "        vertical-align: middle;\n",
       "    }\n",
       "\n",
       "    .dataframe tbody tr th {\n",
       "        vertical-align: top;\n",
       "    }\n",
       "\n",
       "    .dataframe thead th {\n",
       "        text-align: right;\n",
       "    }\n",
       "</style>\n",
       "<table border=\"1\" class=\"dataframe\">\n",
       "  <thead>\n",
       "    <tr style=\"text-align: right;\">\n",
       "      <th></th>\n",
       "      <th>1.puan</th>\n",
       "      <th>2.puan</th>\n",
       "      <th>3.puan</th>\n",
       "    </tr>\n",
       "  </thead>\n",
       "  <tbody>\n",
       "    <tr>\n",
       "      <th>0</th>\n",
       "      <td>100.0</td>\n",
       "      <td>30.0</td>\n",
       "      <td>80.0</td>\n",
       "    </tr>\n",
       "    <tr>\n",
       "      <th>1</th>\n",
       "      <td>90.0</td>\n",
       "      <td>45.0</td>\n",
       "      <td>40.0</td>\n",
       "    </tr>\n",
       "    <tr>\n",
       "      <th>2</th>\n",
       "      <td>95.0</td>\n",
       "      <td>56.0</td>\n",
       "      <td>80.0</td>\n",
       "    </tr>\n",
       "    <tr>\n",
       "      <th>3</th>\n",
       "      <td>95.0</td>\n",
       "      <td>45.0</td>\n",
       "      <td>98.0</td>\n",
       "    </tr>\n",
       "  </tbody>\n",
       "</table>\n",
       "</div>"
      ],
      "text/plain": [
       "   1.puan  2.puan  3.puan\n",
       "0   100.0    30.0    80.0\n",
       "1    90.0    45.0    40.0\n",
       "2    95.0    56.0    80.0\n",
       "3    95.0    45.0    98.0"
      ]
     },
     "execution_count": 307,
     "metadata": {},
     "output_type": "execute_result"
    }
   ],
   "source": [
    "df.fillna(df.median())#fillna() işlevi ile eksik değerler ortalamayla değiştirilir."
   ]
  },
  {
   "cell_type": "markdown",
   "id": "9de25deb",
   "metadata": {},
   "source": [
    "### 20. Bir veri çerçevesinin sütunlarının sırası nasıl değiştirilir?"
   ]
  },
  {
   "cell_type": "code",
   "execution_count": 295,
   "id": "ae77bdec",
   "metadata": {},
   "outputs": [
    {
     "data": {
      "text/html": [
       "<div>\n",
       "<style scoped>\n",
       "    .dataframe tbody tr th:only-of-type {\n",
       "        vertical-align: middle;\n",
       "    }\n",
       "\n",
       "    .dataframe tbody tr th {\n",
       "        vertical-align: top;\n",
       "    }\n",
       "\n",
       "    .dataframe thead th {\n",
       "        text-align: right;\n",
       "    }\n",
       "</style>\n",
       "<table border=\"1\" class=\"dataframe\">\n",
       "  <thead>\n",
       "    <tr style=\"text-align: right;\">\n",
       "      <th></th>\n",
       "      <th>C</th>\n",
       "      <th>D</th>\n",
       "      <th>B</th>\n",
       "      <th>A</th>\n",
       "    </tr>\n",
       "  </thead>\n",
       "  <tbody>\n",
       "    <tr>\n",
       "      <th>0</th>\n",
       "      <td>2</td>\n",
       "      <td>19</td>\n",
       "      <td>5</td>\n",
       "      <td>4</td>\n",
       "    </tr>\n",
       "    <tr>\n",
       "      <th>1</th>\n",
       "      <td>4</td>\n",
       "      <td>29</td>\n",
       "      <td>8</td>\n",
       "      <td>3</td>\n",
       "    </tr>\n",
       "    <tr>\n",
       "      <th>2</th>\n",
       "      <td>3</td>\n",
       "      <td>24</td>\n",
       "      <td>10</td>\n",
       "      <td>5</td>\n",
       "    </tr>\n",
       "    <tr>\n",
       "      <th>3</th>\n",
       "      <td>0</td>\n",
       "      <td>24</td>\n",
       "      <td>1</td>\n",
       "      <td>1</td>\n",
       "    </tr>\n",
       "    <tr>\n",
       "      <th>4</th>\n",
       "      <td>0</td>\n",
       "      <td>20</td>\n",
       "      <td>15</td>\n",
       "      <td>8</td>\n",
       "    </tr>\n",
       "  </tbody>\n",
       "</table>\n",
       "</div>"
      ],
      "text/plain": [
       "   C   D   B  A\n",
       "0  2  19   5  4\n",
       "1  4  29   8  3\n",
       "2  3  24  10  5\n",
       "3  0  24   1  1\n",
       "4  0  20  15  8"
      ]
     },
     "execution_count": 295,
     "metadata": {},
     "output_type": "execute_result"
    }
   ],
   "source": [
    "import numpy as np#numpy import edilir.\n",
    "import pandas as pd#pandas import edilir.\n",
    "#dataframe oluşturma\n",
    "df = pd.DataFrame({\"A\": np.random.randint(10, size=5),\"B\": np.random.randint(20, size=5),\"C\": np.random.randint(5, size=5),\"D\": np.random.randint(30, size=5)})\n",
    "df.iloc[:, [2,3,1,0]]#dataframe in sütunlarının sıralarının değiştirilmesi"
   ]
  },
  {
   "cell_type": "markdown",
   "id": "ca47a070",
   "metadata": {},
   "source": [
    "### 21. Bir veri çerçevesindeki her n. satır nasıl filtrelenir?"
   ]
  },
  {
   "cell_type": "code",
   "execution_count": 300,
   "id": "dd82a481",
   "metadata": {},
   "outputs": [
    {
     "data": {
      "text/html": [
       "<div>\n",
       "<style scoped>\n",
       "    .dataframe tbody tr th:only-of-type {\n",
       "        vertical-align: middle;\n",
       "    }\n",
       "\n",
       "    .dataframe tbody tr th {\n",
       "        vertical-align: top;\n",
       "    }\n",
       "\n",
       "    .dataframe thead th {\n",
       "        text-align: right;\n",
       "    }\n",
       "</style>\n",
       "<table border=\"1\" class=\"dataframe\">\n",
       "  <thead>\n",
       "    <tr style=\"text-align: right;\">\n",
       "      <th></th>\n",
       "      <th>A</th>\n",
       "      <th>B</th>\n",
       "      <th>C</th>\n",
       "      <th>D</th>\n",
       "    </tr>\n",
       "  </thead>\n",
       "  <tbody>\n",
       "    <tr>\n",
       "      <th>0</th>\n",
       "      <td>1</td>\n",
       "      <td>2</td>\n",
       "      <td>3</td>\n",
       "      <td>0</td>\n",
       "    </tr>\n",
       "    <tr>\n",
       "      <th>1</th>\n",
       "      <td>8</td>\n",
       "      <td>15</td>\n",
       "      <td>0</td>\n",
       "      <td>23</td>\n",
       "    </tr>\n",
       "    <tr>\n",
       "      <th>2</th>\n",
       "      <td>7</td>\n",
       "      <td>10</td>\n",
       "      <td>1</td>\n",
       "      <td>23</td>\n",
       "    </tr>\n",
       "    <tr>\n",
       "      <th>3</th>\n",
       "      <td>0</td>\n",
       "      <td>9</td>\n",
       "      <td>1</td>\n",
       "      <td>4</td>\n",
       "    </tr>\n",
       "    <tr>\n",
       "      <th>4</th>\n",
       "      <td>9</td>\n",
       "      <td>10</td>\n",
       "      <td>1</td>\n",
       "      <td>14</td>\n",
       "    </tr>\n",
       "  </tbody>\n",
       "</table>\n",
       "</div>"
      ],
      "text/plain": [
       "   A   B  C   D\n",
       "0  1   2  3   0\n",
       "1  8  15  0  23\n",
       "2  7  10  1  23\n",
       "3  0   9  1   4\n",
       "4  9  10  1  14"
      ]
     },
     "execution_count": 300,
     "metadata": {},
     "output_type": "execute_result"
    }
   ],
   "source": [
    "import numpy as np#numpy import edilir.\n",
    "import pandas as pd#pandas import edilir.\n",
    "#dataframe oluşturma\n",
    "df = pd.DataFrame({\"A\": np.random.randint(10, size=5),\"B\": np.random.randint(20, size=5),\"C\": np.random.randint(5, size=5),\"D\": np.random.randint(30, size=5)})\n",
    "df#datframe ekrana yazdırılır."
   ]
  },
  {
   "cell_type": "code",
   "execution_count": 298,
   "id": "29ea1e98",
   "metadata": {},
   "outputs": [
    {
     "data": {
      "text/plain": [
       "A     1\n",
       "B    12\n",
       "C     0\n",
       "D    28\n",
       "Name: 3, dtype: int32"
      ]
     },
     "execution_count": 298,
     "metadata": {},
     "output_type": "execute_result"
    }
   ],
   "source": [
    "df.iloc[3]#datframe in 3.satırı filtrelenir.Hangi satır filtrelenmek isteniyorsa o değer girilir."
   ]
  },
  {
   "cell_type": "markdown",
   "id": "eb3a3644",
   "metadata": {},
   "source": [
    "### 22. Satır toplamı > 100 olan bir veri çerçevesinin son n satırı nasıl alınır?"
   ]
  },
  {
   "cell_type": "code",
   "execution_count": 308,
   "id": "09b059e4",
   "metadata": {},
   "outputs": [
    {
     "data": {
      "text/html": [
       "<div>\n",
       "<style scoped>\n",
       "    .dataframe tbody tr th:only-of-type {\n",
       "        vertical-align: middle;\n",
       "    }\n",
       "\n",
       "    .dataframe tbody tr th {\n",
       "        vertical-align: top;\n",
       "    }\n",
       "\n",
       "    .dataframe thead th {\n",
       "        text-align: right;\n",
       "    }\n",
       "</style>\n",
       "<table border=\"1\" class=\"dataframe\">\n",
       "  <thead>\n",
       "    <tr style=\"text-align: right;\">\n",
       "      <th></th>\n",
       "      <th>ad</th>\n",
       "      <th>yas</th>\n",
       "      <th>puan</th>\n",
       "    </tr>\n",
       "  </thead>\n",
       "  <tbody>\n",
       "    <tr>\n",
       "      <th>0</th>\n",
       "      <td>Simge</td>\n",
       "      <td>22.0</td>\n",
       "      <td>90</td>\n",
       "    </tr>\n",
       "    <tr>\n",
       "      <th>1</th>\n",
       "      <td>Ali</td>\n",
       "      <td>20.0</td>\n",
       "      <td>84</td>\n",
       "    </tr>\n",
       "    <tr>\n",
       "      <th>2</th>\n",
       "      <td>Funda</td>\n",
       "      <td>inf</td>\n",
       "      <td>33</td>\n",
       "    </tr>\n",
       "    <tr>\n",
       "      <th>3</th>\n",
       "      <td>Ömer</td>\n",
       "      <td>-inf</td>\n",
       "      <td>87</td>\n",
       "    </tr>\n",
       "    <tr>\n",
       "      <th>4</th>\n",
       "      <td>Meltem</td>\n",
       "      <td>22.0</td>\n",
       "      <td>82</td>\n",
       "    </tr>\n",
       "  </tbody>\n",
       "</table>\n",
       "</div>"
      ],
      "text/plain": [
       "       ad   yas  puan\n",
       "0   Simge  22.0    90\n",
       "1     Ali  20.0    84\n",
       "2   Funda   inf    33\n",
       "3    Ömer  -inf    87\n",
       "4  Meltem  22.0    82"
      ]
     },
     "execution_count": 308,
     "metadata": {},
     "output_type": "execute_result"
    }
   ],
   "source": [
    "import pandas as pd#pandas import edilir.\n",
    "import numpy as np#numpy import edilir.\n",
    "dict = {'ad': ['Simge', 'Ali', 'Funda','Ömer', 'Meltem'],'yas': [22, 20, np.inf, -np.inf, 22], 'puan': [90, 84, 33, 87, 82]}# dataframe için sözlük oluşturulur.\n",
    "df = pd.DataFrame(dict)#sözlük dataframe e dönüştürülür\n",
    "df#ekrana yazdırılır."
   ]
  },
  {
   "cell_type": "code",
   "execution_count": 310,
   "id": "d2b58c1e",
   "metadata": {},
   "outputs": [
    {
     "data": {
      "text/html": [
       "<div>\n",
       "<style scoped>\n",
       "    .dataframe tbody tr th:only-of-type {\n",
       "        vertical-align: middle;\n",
       "    }\n",
       "\n",
       "    .dataframe tbody tr th {\n",
       "        vertical-align: top;\n",
       "    }\n",
       "\n",
       "    .dataframe thead th {\n",
       "        text-align: right;\n",
       "    }\n",
       "</style>\n",
       "<table border=\"1\" class=\"dataframe\">\n",
       "  <thead>\n",
       "    <tr style=\"text-align: right;\">\n",
       "      <th></th>\n",
       "      <th>ad</th>\n",
       "      <th>yas</th>\n",
       "      <th>puan</th>\n",
       "    </tr>\n",
       "  </thead>\n",
       "  <tbody>\n",
       "    <tr>\n",
       "      <th>3</th>\n",
       "      <td>Ömer</td>\n",
       "      <td>-inf</td>\n",
       "      <td>87</td>\n",
       "    </tr>\n",
       "    <tr>\n",
       "      <th>4</th>\n",
       "      <td>Meltem</td>\n",
       "      <td>22.0</td>\n",
       "      <td>82</td>\n",
       "    </tr>\n",
       "  </tbody>\n",
       "</table>\n",
       "</div>"
      ],
      "text/plain": [
       "       ad   yas  puan\n",
       "3    Ömer  -inf    87\n",
       "4  Meltem  22.0    82"
      ]
     },
     "execution_count": 310,
     "metadata": {},
     "output_type": "execute_result"
    }
   ],
   "source": [
    "df.tail(2)#datframe in son 2 satırını verir.sondan kaç satırı döndürmek isterseniz onu girmelisiniz."
   ]
  },
  {
   "cell_type": "code",
   "execution_count": 313,
   "id": "6fd08395",
   "metadata": {},
   "outputs": [
    {
     "data": {
      "text/html": [
       "<div>\n",
       "<style scoped>\n",
       "    .dataframe tbody tr th:only-of-type {\n",
       "        vertical-align: middle;\n",
       "    }\n",
       "\n",
       "    .dataframe tbody tr th {\n",
       "        vertical-align: top;\n",
       "    }\n",
       "\n",
       "    .dataframe thead th {\n",
       "        text-align: right;\n",
       "    }\n",
       "</style>\n",
       "<table border=\"1\" class=\"dataframe\">\n",
       "  <thead>\n",
       "    <tr style=\"text-align: right;\">\n",
       "      <th></th>\n",
       "      <th>Pregnancies</th>\n",
       "      <th>Glucose</th>\n",
       "      <th>BloodPressure</th>\n",
       "      <th>SkinThickness</th>\n",
       "      <th>Insulin</th>\n",
       "      <th>BMI</th>\n",
       "      <th>DiabetesPedigreeFunction</th>\n",
       "      <th>Age</th>\n",
       "      <th>Outcome</th>\n",
       "    </tr>\n",
       "  </thead>\n",
       "  <tbody>\n",
       "    <tr>\n",
       "      <th>762</th>\n",
       "      <td>9</td>\n",
       "      <td>89</td>\n",
       "      <td>62</td>\n",
       "      <td>0</td>\n",
       "      <td>0</td>\n",
       "      <td>22.5</td>\n",
       "      <td>0.142</td>\n",
       "      <td>33</td>\n",
       "      <td>0</td>\n",
       "    </tr>\n",
       "    <tr>\n",
       "      <th>763</th>\n",
       "      <td>10</td>\n",
       "      <td>101</td>\n",
       "      <td>76</td>\n",
       "      <td>48</td>\n",
       "      <td>180</td>\n",
       "      <td>32.9</td>\n",
       "      <td>0.171</td>\n",
       "      <td>63</td>\n",
       "      <td>0</td>\n",
       "    </tr>\n",
       "    <tr>\n",
       "      <th>764</th>\n",
       "      <td>2</td>\n",
       "      <td>122</td>\n",
       "      <td>70</td>\n",
       "      <td>27</td>\n",
       "      <td>0</td>\n",
       "      <td>36.8</td>\n",
       "      <td>0.340</td>\n",
       "      <td>27</td>\n",
       "      <td>0</td>\n",
       "    </tr>\n",
       "    <tr>\n",
       "      <th>765</th>\n",
       "      <td>5</td>\n",
       "      <td>121</td>\n",
       "      <td>72</td>\n",
       "      <td>23</td>\n",
       "      <td>112</td>\n",
       "      <td>26.2</td>\n",
       "      <td>0.245</td>\n",
       "      <td>30</td>\n",
       "      <td>0</td>\n",
       "    </tr>\n",
       "    <tr>\n",
       "      <th>766</th>\n",
       "      <td>1</td>\n",
       "      <td>126</td>\n",
       "      <td>60</td>\n",
       "      <td>0</td>\n",
       "      <td>0</td>\n",
       "      <td>30.1</td>\n",
       "      <td>0.349</td>\n",
       "      <td>47</td>\n",
       "      <td>1</td>\n",
       "    </tr>\n",
       "    <tr>\n",
       "      <th>767</th>\n",
       "      <td>1</td>\n",
       "      <td>93</td>\n",
       "      <td>70</td>\n",
       "      <td>31</td>\n",
       "      <td>0</td>\n",
       "      <td>30.4</td>\n",
       "      <td>0.315</td>\n",
       "      <td>23</td>\n",
       "      <td>0</td>\n",
       "    </tr>\n",
       "  </tbody>\n",
       "</table>\n",
       "</div>"
      ],
      "text/plain": [
       "     Pregnancies  Glucose  BloodPressure  SkinThickness  Insulin   BMI  \\\n",
       "762            9       89             62              0        0  22.5   \n",
       "763           10      101             76             48      180  32.9   \n",
       "764            2      122             70             27        0  36.8   \n",
       "765            5      121             72             23      112  26.2   \n",
       "766            1      126             60              0        0  30.1   \n",
       "767            1       93             70             31        0  30.4   \n",
       "\n",
       "     DiabetesPedigreeFunction  Age  Outcome  \n",
       "762                     0.142   33        0  \n",
       "763                     0.171   63        0  \n",
       "764                     0.340   27        0  \n",
       "765                     0.245   30        0  \n",
       "766                     0.349   47        1  \n",
       "767                     0.315   23        0  "
      ]
     },
     "execution_count": 313,
     "metadata": {},
     "output_type": "execute_result"
    }
   ],
   "source": [
    "import pandas as pd#pandas import edilir.\n",
    "a=pd.read_csv('diabetes.csv')#csv dosyası okunur\n",
    "a.tail(6)#csv dosyasının son n satırını döndürür."
   ]
  },
  {
   "cell_type": "markdown",
   "id": "67029583",
   "metadata": {},
   "source": [
    "### 23. Bir dizi veya veri çerçevesi sütunundan aykırı değerler nasıl bulunur ve sınırlandırılır?"
   ]
  },
  {
   "cell_type": "code",
   "execution_count": 302,
   "id": "f65591d6",
   "metadata": {},
   "outputs": [
    {
     "data": {
      "text/html": [
       "<div>\n",
       "<style scoped>\n",
       "    .dataframe tbody tr th:only-of-type {\n",
       "        vertical-align: middle;\n",
       "    }\n",
       "\n",
       "    .dataframe tbody tr th {\n",
       "        vertical-align: top;\n",
       "    }\n",
       "\n",
       "    .dataframe thead th {\n",
       "        text-align: right;\n",
       "    }\n",
       "</style>\n",
       "<table border=\"1\" class=\"dataframe\">\n",
       "  <thead>\n",
       "    <tr style=\"text-align: right;\">\n",
       "      <th></th>\n",
       "      <th>A</th>\n",
       "      <th>B</th>\n",
       "      <th>C</th>\n",
       "      <th>D</th>\n",
       "    </tr>\n",
       "  </thead>\n",
       "  <tbody>\n",
       "    <tr>\n",
       "      <th>0</th>\n",
       "      <td>1</td>\n",
       "      <td>19</td>\n",
       "      <td>1</td>\n",
       "      <td>6</td>\n",
       "    </tr>\n",
       "    <tr>\n",
       "      <th>1</th>\n",
       "      <td>3</td>\n",
       "      <td>16</td>\n",
       "      <td>2</td>\n",
       "      <td>12</td>\n",
       "    </tr>\n",
       "    <tr>\n",
       "      <th>2</th>\n",
       "      <td>3</td>\n",
       "      <td>1</td>\n",
       "      <td>1</td>\n",
       "      <td>27</td>\n",
       "    </tr>\n",
       "    <tr>\n",
       "      <th>3</th>\n",
       "      <td>3</td>\n",
       "      <td>6</td>\n",
       "      <td>3</td>\n",
       "      <td>8</td>\n",
       "    </tr>\n",
       "    <tr>\n",
       "      <th>4</th>\n",
       "      <td>9</td>\n",
       "      <td>8</td>\n",
       "      <td>2</td>\n",
       "      <td>17</td>\n",
       "    </tr>\n",
       "  </tbody>\n",
       "</table>\n",
       "</div>"
      ],
      "text/plain": [
       "   A   B  C   D\n",
       "0  1  19  1   6\n",
       "1  3  16  2  12\n",
       "2  3   1  1  27\n",
       "3  3   6  3   8\n",
       "4  9   8  2  17"
      ]
     },
     "execution_count": 302,
     "metadata": {},
     "output_type": "execute_result"
    }
   ],
   "source": [
    "import numpy as np#numpy import edilir.\n",
    "import pandas as pd#pandas import edilir.\n",
    "#dataframe oluşturma\n",
    "df = pd.DataFrame({\"A\": np.random.randint(10, size=5),\"B\": np.random.randint(20, size=5),\"C\": np.random.randint(5, size=5),\"D\": np.random.randint(30, size=5)})\n",
    "df#datframe ekrana yazdırılır.\n"
   ]
  },
  {
   "cell_type": "code",
   "execution_count": 303,
   "id": "ccc826b6",
   "metadata": {},
   "outputs": [
    {
     "data": {
      "text/html": [
       "<div>\n",
       "<style scoped>\n",
       "    .dataframe tbody tr th:only-of-type {\n",
       "        vertical-align: middle;\n",
       "    }\n",
       "\n",
       "    .dataframe tbody tr th {\n",
       "        vertical-align: top;\n",
       "    }\n",
       "\n",
       "    .dataframe thead th {\n",
       "        text-align: right;\n",
       "    }\n",
       "</style>\n",
       "<table border=\"1\" class=\"dataframe\">\n",
       "  <thead>\n",
       "    <tr style=\"text-align: right;\">\n",
       "      <th></th>\n",
       "      <th>A</th>\n",
       "      <th>B</th>\n",
       "      <th>C</th>\n",
       "      <th>D</th>\n",
       "    </tr>\n",
       "  </thead>\n",
       "  <tbody>\n",
       "    <tr>\n",
       "      <th>4</th>\n",
       "      <td>9</td>\n",
       "      <td>8</td>\n",
       "      <td>2</td>\n",
       "      <td>17</td>\n",
       "    </tr>\n",
       "    <tr>\n",
       "      <th>3</th>\n",
       "      <td>3</td>\n",
       "      <td>6</td>\n",
       "      <td>3</td>\n",
       "      <td>8</td>\n",
       "    </tr>\n",
       "    <tr>\n",
       "      <th>2</th>\n",
       "      <td>3</td>\n",
       "      <td>1</td>\n",
       "      <td>1</td>\n",
       "      <td>27</td>\n",
       "    </tr>\n",
       "    <tr>\n",
       "      <th>1</th>\n",
       "      <td>3</td>\n",
       "      <td>16</td>\n",
       "      <td>2</td>\n",
       "      <td>12</td>\n",
       "    </tr>\n",
       "    <tr>\n",
       "      <th>0</th>\n",
       "      <td>1</td>\n",
       "      <td>19</td>\n",
       "      <td>1</td>\n",
       "      <td>6</td>\n",
       "    </tr>\n",
       "  </tbody>\n",
       "</table>\n",
       "</div>"
      ],
      "text/plain": [
       "   A   B  C   D\n",
       "4  9   8  2  17\n",
       "3  3   6  3   8\n",
       "2  3   1  1  27\n",
       "1  3  16  2  12\n",
       "0  1  19  1   6"
      ]
     },
     "execution_count": 303,
     "metadata": {},
     "output_type": "execute_result"
    }
   ],
   "source": [
    "df[::-1]#dataframe in satırlarını tersine çevirir.\n"
   ]
  },
  {
   "cell_type": "markdown",
   "id": "91cedc52",
   "metadata": {},
   "source": [
    "### 24. Bir veri çerçevesinin satırları nasıl tersine çevrilir?"
   ]
  },
  {
   "cell_type": "code",
   "execution_count": 35,
   "id": "c14a26ac",
   "metadata": {},
   "outputs": [
    {
     "data": {
      "text/html": [
       "<div>\n",
       "<style scoped>\n",
       "    .dataframe tbody tr th:only-of-type {\n",
       "        vertical-align: middle;\n",
       "    }\n",
       "\n",
       "    .dataframe tbody tr th {\n",
       "        vertical-align: top;\n",
       "    }\n",
       "\n",
       "    .dataframe thead th {\n",
       "        text-align: right;\n",
       "    }\n",
       "</style>\n",
       "<table border=\"1\" class=\"dataframe\">\n",
       "  <thead>\n",
       "    <tr style=\"text-align: right;\">\n",
       "      <th></th>\n",
       "      <th>gelir</th>\n",
       "      <th>gider</th>\n",
       "      <th>kar</th>\n",
       "    </tr>\n",
       "  </thead>\n",
       "  <tbody>\n",
       "    <tr>\n",
       "      <th>0</th>\n",
       "      <td>150000</td>\n",
       "      <td>10000</td>\n",
       "      <td>5000</td>\n",
       "    </tr>\n",
       "    <tr>\n",
       "      <th>1</th>\n",
       "      <td>13000</td>\n",
       "      <td>11000</td>\n",
       "      <td>2000</td>\n",
       "    </tr>\n",
       "    <tr>\n",
       "      <th>2</th>\n",
       "      <td>11000</td>\n",
       "      <td>7000</td>\n",
       "      <td>4000</td>\n",
       "    </tr>\n",
       "    <tr>\n",
       "      <th>3</th>\n",
       "      <td>11000</td>\n",
       "      <td>50000</td>\n",
       "      <td>6000</td>\n",
       "    </tr>\n",
       "  </tbody>\n",
       "</table>\n",
       "</div>"
      ],
      "text/plain": [
       "    gelir  gider   kar\n",
       "0  150000  10000  5000\n",
       "1   13000  11000  2000\n",
       "2   11000   7000  4000\n",
       "3   11000  50000  6000"
      ]
     },
     "execution_count": 35,
     "metadata": {},
     "output_type": "execute_result"
    }
   ],
   "source": [
    "import pandas as pd#pandas  import edilir.\n",
    " \n",
    "#sözlük tanımlanır\n",
    "data = {'gelir': [150000, 13000, 11000, 11000],'gider': [10000, 11000, 7000, 50000],'kar': [5000, 2000, 4000, 6000]}\n",
    "dataframe = pd.DataFrame(data)#dataframe oluşturulur\n",
    "dataframe#ekrana yazdırılur."
   ]
  },
  {
   "cell_type": "code",
   "execution_count": 36,
   "id": "fd10e5f4",
   "metadata": {},
   "outputs": [
    {
     "data": {
      "text/html": [
       "<div>\n",
       "<style scoped>\n",
       "    .dataframe tbody tr th:only-of-type {\n",
       "        vertical-align: middle;\n",
       "    }\n",
       "\n",
       "    .dataframe tbody tr th {\n",
       "        vertical-align: top;\n",
       "    }\n",
       "\n",
       "    .dataframe thead th {\n",
       "        text-align: right;\n",
       "    }\n",
       "</style>\n",
       "<table border=\"1\" class=\"dataframe\">\n",
       "  <thead>\n",
       "    <tr style=\"text-align: right;\">\n",
       "      <th></th>\n",
       "      <th>gelir</th>\n",
       "      <th>gider</th>\n",
       "      <th>kar</th>\n",
       "    </tr>\n",
       "  </thead>\n",
       "  <tbody>\n",
       "    <tr>\n",
       "      <th>3</th>\n",
       "      <td>11000</td>\n",
       "      <td>50000</td>\n",
       "      <td>6000</td>\n",
       "    </tr>\n",
       "    <tr>\n",
       "      <th>2</th>\n",
       "      <td>11000</td>\n",
       "      <td>7000</td>\n",
       "      <td>4000</td>\n",
       "    </tr>\n",
       "    <tr>\n",
       "      <th>1</th>\n",
       "      <td>13000</td>\n",
       "      <td>11000</td>\n",
       "      <td>2000</td>\n",
       "    </tr>\n",
       "    <tr>\n",
       "      <th>0</th>\n",
       "      <td>150000</td>\n",
       "      <td>10000</td>\n",
       "      <td>5000</td>\n",
       "    </tr>\n",
       "  </tbody>\n",
       "</table>\n",
       "</div>"
      ],
      "text/plain": [
       "    gelir  gider   kar\n",
       "3   11000  50000  6000\n",
       "2   11000   7000  4000\n",
       "1   13000  11000  2000\n",
       "0  150000  10000  5000"
      ]
     },
     "execution_count": 36,
     "metadata": {},
     "output_type": "execute_result"
    }
   ],
   "source": [
    "# iloc() Fonksiyonu ile satırlar tersine çevrilir.\n",
    "ters = dataframe.iloc[::-1]\n",
    "ters#ekrana yazdırılır."
   ]
  }
 ],
 "metadata": {
  "kernelspec": {
   "display_name": "Python 3 (ipykernel)",
   "language": "python",
   "name": "python3"
  },
  "language_info": {
   "codemirror_mode": {
    "name": "ipython",
    "version": 3
   },
   "file_extension": ".py",
   "mimetype": "text/x-python",
   "name": "python",
   "nbconvert_exporter": "python",
   "pygments_lexer": "ipython3",
   "version": "3.9.12"
  }
 },
 "nbformat": 4,
 "nbformat_minor": 5
}
